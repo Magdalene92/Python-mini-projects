{
  "nbformat": 4,
  "nbformat_minor": 0,
  "metadata": {
    "colab": {
      "provenance": []
    },
    "kernelspec": {
      "name": "python3",
      "display_name": "Python 3"
    },
    "language_info": {
      "name": "python"
    }
  },
  "cells": [
    {
      "cell_type": "code",
      "execution_count": 1,
      "metadata": {
        "colab": {
          "base_uri": "https://localhost:8080/"
        },
        "id": "xLQ3j3FdK0yA",
        "outputId": "3c597e7e-b7e2-41a6-f6f5-3b2c8df1722c"
      },
      "outputs": [
        {
          "output_type": "stream",
          "name": "stdout",
          "text": [
            "\n",
            "    Happy Greek Independence Day!\n",
            "    Today, we celebrate the bravery and resilience of the Greek people,\n",
            "    who fought for and achieved their independence on March 25th, 1821.\n",
            "    Ζήτω η Ελλάδα!\n",
            "    \n"
          ]
        }
      ],
      "source": [
        "def greek_independence_day():\n",
        "    # Define the message to be displayed\n",
        "    message = \"\"\"\n",
        "    Happy Greek Independence Day!\n",
        "    Today, we celebrate the bravery and resilience of the Greek people,\n",
        "    who fought for and achieved their independence on March 25th, 1821.\n",
        "    Ζήτω η Ελλάδα!\n",
        "    \"\"\"\n",
        "\n",
        "    # Print the message\n",
        "    print(message)\n",
        "\n",
        "# Call the function to display the message\n",
        "greek_independence_day()\n"
      ]
    }
  ]
}